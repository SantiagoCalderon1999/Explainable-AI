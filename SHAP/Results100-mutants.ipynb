{
 "cells": [
  {
   "cell_type": "code",
   "execution_count": 1,
   "id": "03b41a0c-e865-4b22-a36b-3167b3be5164",
   "metadata": {},
   "outputs": [
    {
     "ename": "FileNotFoundError",
     "evalue": "[WinError 3] The system cannot find the path specified: 'm01_child/'",
     "output_type": "error",
     "traceback": [
      "\u001b[1;31m---------------------------------------------------------------------------\u001b[0m",
      "\u001b[1;31mFileNotFoundError\u001b[0m                         Traceback (most recent call last)",
      "Cell \u001b[1;32mIn[1], line 7\u001b[0m\n\u001b[0;32m      4\u001b[0m folder_path1 \u001b[38;5;241m=\u001b[39m \u001b[38;5;124m'\u001b[39m\u001b[38;5;124mm01_child/\u001b[39m\u001b[38;5;124m'\u001b[39m\n\u001b[0;32m      5\u001b[0m folder_path2 \u001b[38;5;241m=\u001b[39m \u001b[38;5;124m'\u001b[39m\u001b[38;5;124mm10_child/\u001b[39m\u001b[38;5;124m'\u001b[39m\n\u001b[1;32m----> 7\u001b[0m image_files1 \u001b[38;5;241m=\u001b[39m [f \u001b[38;5;28;01mfor\u001b[39;00m f \u001b[38;5;129;01min\u001b[39;00m \u001b[43mos\u001b[49m\u001b[38;5;241;43m.\u001b[39;49m\u001b[43mlistdir\u001b[49m\u001b[43m(\u001b[49m\u001b[43mfolder_path1\u001b[49m\u001b[43m)\u001b[49m \u001b[38;5;28;01mif\u001b[39;00m f\u001b[38;5;241m.\u001b[39mlower()\u001b[38;5;241m.\u001b[39mendswith((\u001b[38;5;124m'\u001b[39m\u001b[38;5;124m.png\u001b[39m\u001b[38;5;124m'\u001b[39m, \u001b[38;5;124m'\u001b[39m\u001b[38;5;124m.jpg\u001b[39m\u001b[38;5;124m'\u001b[39m, \u001b[38;5;124m'\u001b[39m\u001b[38;5;124m.jpeg\u001b[39m\u001b[38;5;124m'\u001b[39m, \u001b[38;5;124m'\u001b[39m\u001b[38;5;124m.gif\u001b[39m\u001b[38;5;124m'\u001b[39m, \u001b[38;5;124m'\u001b[39m\u001b[38;5;124m.bmp\u001b[39m\u001b[38;5;124m'\u001b[39m))]\n\u001b[0;32m      9\u001b[0m image_files2 \u001b[38;5;241m=\u001b[39m [f \u001b[38;5;28;01mfor\u001b[39;00m f \u001b[38;5;129;01min\u001b[39;00m os\u001b[38;5;241m.\u001b[39mlistdir(folder_path2) \u001b[38;5;28;01mif\u001b[39;00m f\u001b[38;5;241m.\u001b[39mlower()\u001b[38;5;241m.\u001b[39mendswith((\u001b[38;5;124m'\u001b[39m\u001b[38;5;124m.png\u001b[39m\u001b[38;5;124m'\u001b[39m, \u001b[38;5;124m'\u001b[39m\u001b[38;5;124m.jpg\u001b[39m\u001b[38;5;124m'\u001b[39m, \u001b[38;5;124m'\u001b[39m\u001b[38;5;124m.jpeg\u001b[39m\u001b[38;5;124m'\u001b[39m, \u001b[38;5;124m'\u001b[39m\u001b[38;5;124m.gif\u001b[39m\u001b[38;5;124m'\u001b[39m, \u001b[38;5;124m'\u001b[39m\u001b[38;5;124m.bmp\u001b[39m\u001b[38;5;124m'\u001b[39m))]\n\u001b[0;32m     11\u001b[0m images \u001b[38;5;241m=\u001b[39m []\n",
      "\u001b[1;31mFileNotFoundError\u001b[0m: [WinError 3] The system cannot find the path specified: 'm01_child/'"
     ]
    }
   ],
   "source": [
    "import cv2\n",
    "import os\n",
    "\n",
    "folder_path1 = 'm01_child/'\n",
    "folder_path2 = 'm10_child/'\n",
    "\n",
    "image_files1 = [f for f in os.listdir(folder_path1) if f.lower().endswith(('.png', '.jpg', '.jpeg', '.gif', '.bmp'))]\n",
    "\n",
    "image_files2 = [f for f in os.listdir(folder_path2) if f.lower().endswith(('.png', '.jpg', '.jpeg', '.gif', '.bmp'))]\n",
    "\n",
    "images = []\n",
    "\n",
    "for filename in image_files1:\n",
    "    image_path = os.path.join(folder_path1, filename)\n",
    "    image = cv2.imread(image_path)\n",
    "\n",
    "    if image is not None:\n",
    "        images.append(image)\n",
    "    else:\n",
    "        print(f\"Failed to load image: {filename}\")\n",
    "\n",
    "for filename in image_files2:\n",
    "    image_path = os.path.join(folder_path2, filename)\n",
    "    image = cv2.imread(image_path)\n",
    "\n",
    "    if image is not None:\n",
    "        images.append(image)\n",
    "    else:\n",
    "        print(f\"Failed to load image: {filename}\")"
   ]
  },
  {
   "cell_type": "code",
   "execution_count": null,
   "id": "cb4f04ae-1e5c-4e33-a99e-5a47593d07c9",
   "metadata": {},
   "outputs": [],
   "source": [
    "normalized_array.shape"
   ]
  },
  {
   "cell_type": "code",
   "execution_count": null,
   "id": "dad3b3f1-823a-4913-b7ce-20dd44cfedbe",
   "metadata": {},
   "outputs": [],
   "source": [
    "import cv2\n",
    "import numpy as np\n",
    "import tensorflow as tf\n",
    "from matplotlib import pyplot as plt\n",
    "\n",
    "paths_to_image = [\"script/positive/image/TCGA_CS_4944_20010208_10.tif\"];\n",
    "                  # \"TCGA_CS_6665_20010817_18.tif\",\n",
    "                  # \"TCGA_DU_5855_19951217_23.tif\",\n",
    "                  # \"TCGA_DU_8166_19970322_25.tif\"];\n",
    "\n",
    "path_to_model = \"clf-resnet-weights.hdf5\";\n",
    "model = tf.keras.models.load_model(path_to_model)\n",
    "img_array = np.empty([len(paths_to_image),256,256,3]);\n",
    "counter = 0\n",
    "for path_to_image in paths_to_image:\n",
    "    img = cv2.imread(path_to_image)\n",
    "    img = img / 255.0 # we need to normalise (but see what happens if you don't)\n",
    "    img = np.expand_dims(img, axis=0)\n",
    "    img_array[counter] = img\n",
    "    counter += 1\n",
    "img_array = img_array.astype('float32')"
   ]
  },
  {
   "cell_type": "code",
   "execution_count": null,
   "id": "c6024879-445b-48c8-a287-b7e0aed7ce7a",
   "metadata": {},
   "outputs": [],
   "source": [
    "import cv2\n",
    "import numpy as np\n",
    "import matplotlib.pyplot as plt\n",
    "from matplotlib.colors import Normalize\n",
    "from matplotlib.cm import ScalarMappable\n",
    "\n",
    "colormap = plt.get_cmap('viridis')  # Choose any colormap\n",
    "heatmap_colored = cv2.applyColorMap((normalized_array * 255).astype(np.uint8), cv2.COLORMAP_JET)\n",
    "superposed_image = cv2.addWeighted((img_array[0] * 256).astype(np.uint8), 0.7, heatmap_colored, 0.3, 0)\n",
    "\n",
    "# Create a color bar for the heatmap\n",
    "cmap = plt.get_cmap('viridis')  # Choose the same colormap used for the heatmap\n",
    "norm = Normalize(vmin=0, vmax=1)  # Specify the range of the color bar\n",
    "scalar_mappable = ScalarMappable(cmap=cmap, norm=norm)\n",
    "scalar_mappable.set_array([])\n",
    "\n",
    "# Display the superposed image inline within the Jupyter Notebook\n",
    "fig, ax = plt.subplots()\n",
    "ax.imshow(cv2.cvtColor(superposed_image, cv2.COLOR_BGR2RGB))\n",
    "ax.axis('off')  # Turn off axis labels\n",
    "cbar = plt.colorbar(scalar_mappable, ax=ax, orientation='vertical', pad=0.05)\n",
    "cbar.set_label('Color Bar Label')  # Set the label for the color bar\n",
    "\n",
    "plt.show()"
   ]
  },
  {
   "cell_type": "code",
   "execution_count": null,
   "id": "c20de4f5-af7c-4525-929a-112411e71373",
   "metadata": {},
   "outputs": [],
   "source": [
    "img_array[0].dtype\n",
    "heatmap_colored.dtype"
   ]
  }
 ],
 "metadata": {
  "kernelspec": {
   "display_name": "Python 3 (ipykernel)",
   "language": "python",
   "name": "python3"
  },
  "language_info": {
   "codemirror_mode": {
    "name": "ipython",
    "version": 3
   },
   "file_extension": ".py",
   "mimetype": "text/x-python",
   "name": "python",
   "nbconvert_exporter": "python",
   "pygments_lexer": "ipython3",
   "version": "3.11.0"
  }
 },
 "nbformat": 4,
 "nbformat_minor": 5
}
